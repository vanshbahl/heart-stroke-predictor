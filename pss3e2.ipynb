{
 "cells": [
  {
   "cell_type": "code",
   "execution_count": null,
   "id": "4e8478c3",
   "metadata": {
    "_cell_guid": "b1076dfc-b9ad-4769-8c92-a6c4dae69d19",
    "_uuid": "8f2839f25d086af736a60e9eeb907d3b93b6e0e5",
    "execution": {
     "iopub.execute_input": "2023-01-12T10:02:51.116319Z",
     "iopub.status.busy": "2023-01-12T10:02:51.115454Z",
     "iopub.status.idle": "2023-01-12T10:02:52.387914Z",
     "shell.execute_reply": "2023-01-12T10:02:52.386348Z"
    },
    "papermill": {
     "duration": 1.287834,
     "end_time": "2023-01-12T10:02:52.390930",
     "exception": false,
     "start_time": "2023-01-12T10:02:51.103096",
     "status": "completed"
    },
    "tags": []
   },
   "outputs": [
    {
     "name": "stdout",
     "output_type": "stream",
     "text": [
      "/kaggle/input/playground-series-s3e2/sample_submission.csv\n",
      "/kaggle/input/playground-series-s3e2/train.csv\n",
      "/kaggle/input/playground-series-s3e2/test.csv\n"
     ]
    }
   ],
   "source": [
    "\n",
    "import numpy as np\n",
    "import pandas as pd\n",
    "import matplotlib.pyplot as plt\n",
    "from sklearn.preprocessing import LabelEncoder, OrdinalEncoder\n",
    "\n",
    "import os\n",
    "for dirname, _, filenames in os.walk('/kaggle/input'):\n",
    "    for filename in filenames:\n",
    "        print(os.path.join(dirname, filename))\n"
   ]
  },
  {
   "cell_type": "markdown",
   "id": "d68fa193",
   "metadata": {
    "papermill": {
     "duration": 0.006654,
     "end_time": "2023-01-12T10:02:52.405385",
     "exception": false,
     "start_time": "2023-01-12T10:02:52.398731",
     "status": "completed"
    },
    "tags": []
   },
   "source": [
    "# Loading Data"
   ]
  },
  {
   "cell_type": "code",
   "execution_count": 2,
   "id": "34a3bac6",
   "metadata": {
    "execution": {
     "iopub.execute_input": "2023-01-12T10:02:52.420795Z",
     "iopub.status.busy": "2023-01-12T10:02:52.420394Z",
     "iopub.status.idle": "2023-01-12T10:02:52.501809Z",
     "shell.execute_reply": "2023-01-12T10:02:52.500542Z"
    },
    "papermill": {
     "duration": 0.092495,
     "end_time": "2023-01-12T10:02:52.504701",
     "exception": false,
     "start_time": "2023-01-12T10:02:52.412206",
     "status": "completed"
    },
    "tags": []
   },
   "outputs": [],
   "source": [
    "train_data = pd.read_csv('/kaggle/input/playground-series-s3e2/train.csv')\n",
    "test_data = pd.read_csv('/kaggle/input/playground-series-s3e2/train.csv')"
   ]
  },
  {
   "cell_type": "code",
   "execution_count": 3,
   "id": "55f4d2ed",
   "metadata": {
    "execution": {
     "iopub.execute_input": "2023-01-12T10:02:52.521087Z",
     "iopub.status.busy": "2023-01-12T10:02:52.520698Z",
     "iopub.status.idle": "2023-01-12T10:02:52.558954Z",
     "shell.execute_reply": "2023-01-12T10:02:52.557749Z"
    },
    "papermill": {
     "duration": 0.049376,
     "end_time": "2023-01-12T10:02:52.561720",
     "exception": false,
     "start_time": "2023-01-12T10:02:52.512344",
     "status": "completed"
    },
    "tags": []
   },
   "outputs": [
    {
     "data": {
      "text/html": [
       "<div>\n",
       "<style scoped>\n",
       "    .dataframe tbody tr th:only-of-type {\n",
       "        vertical-align: middle;\n",
       "    }\n",
       "\n",
       "    .dataframe tbody tr th {\n",
       "        vertical-align: top;\n",
       "    }\n",
       "\n",
       "    .dataframe thead th {\n",
       "        text-align: right;\n",
       "    }\n",
       "</style>\n",
       "<table border=\"1\" class=\"dataframe\">\n",
       "  <thead>\n",
       "    <tr style=\"text-align: right;\">\n",
       "      <th></th>\n",
       "      <th>id</th>\n",
       "      <th>gender</th>\n",
       "      <th>age</th>\n",
       "      <th>hypertension</th>\n",
       "      <th>heart_disease</th>\n",
       "      <th>ever_married</th>\n",
       "      <th>work_type</th>\n",
       "      <th>Residence_type</th>\n",
       "      <th>avg_glucose_level</th>\n",
       "      <th>bmi</th>\n",
       "      <th>smoking_status</th>\n",
       "      <th>stroke</th>\n",
       "    </tr>\n",
       "  </thead>\n",
       "  <tbody>\n",
       "    <tr>\n",
       "      <th>0</th>\n",
       "      <td>0</td>\n",
       "      <td>Male</td>\n",
       "      <td>28.0</td>\n",
       "      <td>0</td>\n",
       "      <td>0</td>\n",
       "      <td>Yes</td>\n",
       "      <td>Private</td>\n",
       "      <td>Urban</td>\n",
       "      <td>79.53</td>\n",
       "      <td>31.1</td>\n",
       "      <td>never smoked</td>\n",
       "      <td>0</td>\n",
       "    </tr>\n",
       "    <tr>\n",
       "      <th>1</th>\n",
       "      <td>1</td>\n",
       "      <td>Male</td>\n",
       "      <td>33.0</td>\n",
       "      <td>0</td>\n",
       "      <td>0</td>\n",
       "      <td>Yes</td>\n",
       "      <td>Private</td>\n",
       "      <td>Rural</td>\n",
       "      <td>78.44</td>\n",
       "      <td>23.9</td>\n",
       "      <td>formerly smoked</td>\n",
       "      <td>0</td>\n",
       "    </tr>\n",
       "    <tr>\n",
       "      <th>2</th>\n",
       "      <td>2</td>\n",
       "      <td>Female</td>\n",
       "      <td>42.0</td>\n",
       "      <td>0</td>\n",
       "      <td>0</td>\n",
       "      <td>Yes</td>\n",
       "      <td>Private</td>\n",
       "      <td>Rural</td>\n",
       "      <td>103.00</td>\n",
       "      <td>40.3</td>\n",
       "      <td>Unknown</td>\n",
       "      <td>0</td>\n",
       "    </tr>\n",
       "    <tr>\n",
       "      <th>3</th>\n",
       "      <td>3</td>\n",
       "      <td>Male</td>\n",
       "      <td>56.0</td>\n",
       "      <td>0</td>\n",
       "      <td>0</td>\n",
       "      <td>Yes</td>\n",
       "      <td>Private</td>\n",
       "      <td>Urban</td>\n",
       "      <td>64.87</td>\n",
       "      <td>28.8</td>\n",
       "      <td>never smoked</td>\n",
       "      <td>0</td>\n",
       "    </tr>\n",
       "    <tr>\n",
       "      <th>4</th>\n",
       "      <td>4</td>\n",
       "      <td>Female</td>\n",
       "      <td>24.0</td>\n",
       "      <td>0</td>\n",
       "      <td>0</td>\n",
       "      <td>No</td>\n",
       "      <td>Private</td>\n",
       "      <td>Rural</td>\n",
       "      <td>73.36</td>\n",
       "      <td>28.8</td>\n",
       "      <td>never smoked</td>\n",
       "      <td>0</td>\n",
       "    </tr>\n",
       "    <tr>\n",
       "      <th>...</th>\n",
       "      <td>...</td>\n",
       "      <td>...</td>\n",
       "      <td>...</td>\n",
       "      <td>...</td>\n",
       "      <td>...</td>\n",
       "      <td>...</td>\n",
       "      <td>...</td>\n",
       "      <td>...</td>\n",
       "      <td>...</td>\n",
       "      <td>...</td>\n",
       "      <td>...</td>\n",
       "      <td>...</td>\n",
       "    </tr>\n",
       "    <tr>\n",
       "      <th>15299</th>\n",
       "      <td>15299</td>\n",
       "      <td>Female</td>\n",
       "      <td>22.0</td>\n",
       "      <td>0</td>\n",
       "      <td>0</td>\n",
       "      <td>No</td>\n",
       "      <td>Govt_job</td>\n",
       "      <td>Urban</td>\n",
       "      <td>72.63</td>\n",
       "      <td>19.5</td>\n",
       "      <td>never smoked</td>\n",
       "      <td>0</td>\n",
       "    </tr>\n",
       "    <tr>\n",
       "      <th>15300</th>\n",
       "      <td>15300</td>\n",
       "      <td>Female</td>\n",
       "      <td>46.0</td>\n",
       "      <td>1</td>\n",
       "      <td>0</td>\n",
       "      <td>Yes</td>\n",
       "      <td>Private</td>\n",
       "      <td>Urban</td>\n",
       "      <td>101.19</td>\n",
       "      <td>32.1</td>\n",
       "      <td>never smoked</td>\n",
       "      <td>0</td>\n",
       "    </tr>\n",
       "    <tr>\n",
       "      <th>15301</th>\n",
       "      <td>15301</td>\n",
       "      <td>Female</td>\n",
       "      <td>75.0</td>\n",
       "      <td>0</td>\n",
       "      <td>0</td>\n",
       "      <td>Yes</td>\n",
       "      <td>Self-employed</td>\n",
       "      <td>Urban</td>\n",
       "      <td>87.69</td>\n",
       "      <td>26.2</td>\n",
       "      <td>never smoked</td>\n",
       "      <td>0</td>\n",
       "    </tr>\n",
       "    <tr>\n",
       "      <th>15302</th>\n",
       "      <td>15302</td>\n",
       "      <td>Male</td>\n",
       "      <td>46.0</td>\n",
       "      <td>0</td>\n",
       "      <td>0</td>\n",
       "      <td>Yes</td>\n",
       "      <td>Private</td>\n",
       "      <td>Rural</td>\n",
       "      <td>101.13</td>\n",
       "      <td>22.5</td>\n",
       "      <td>Unknown</td>\n",
       "      <td>0</td>\n",
       "    </tr>\n",
       "    <tr>\n",
       "      <th>15303</th>\n",
       "      <td>15303</td>\n",
       "      <td>Female</td>\n",
       "      <td>14.0</td>\n",
       "      <td>0</td>\n",
       "      <td>0</td>\n",
       "      <td>No</td>\n",
       "      <td>Private</td>\n",
       "      <td>Rural</td>\n",
       "      <td>85.12</td>\n",
       "      <td>24.7</td>\n",
       "      <td>never smoked</td>\n",
       "      <td>0</td>\n",
       "    </tr>\n",
       "  </tbody>\n",
       "</table>\n",
       "<p>15304 rows × 12 columns</p>\n",
       "</div>"
      ],
      "text/plain": [
       "          id  gender   age  hypertension  heart_disease ever_married  \\\n",
       "0          0    Male  28.0             0              0          Yes   \n",
       "1          1    Male  33.0             0              0          Yes   \n",
       "2          2  Female  42.0             0              0          Yes   \n",
       "3          3    Male  56.0             0              0          Yes   \n",
       "4          4  Female  24.0             0              0           No   \n",
       "...      ...     ...   ...           ...            ...          ...   \n",
       "15299  15299  Female  22.0             0              0           No   \n",
       "15300  15300  Female  46.0             1              0          Yes   \n",
       "15301  15301  Female  75.0             0              0          Yes   \n",
       "15302  15302    Male  46.0             0              0          Yes   \n",
       "15303  15303  Female  14.0             0              0           No   \n",
       "\n",
       "           work_type Residence_type  avg_glucose_level   bmi   smoking_status  \\\n",
       "0            Private          Urban              79.53  31.1     never smoked   \n",
       "1            Private          Rural              78.44  23.9  formerly smoked   \n",
       "2            Private          Rural             103.00  40.3          Unknown   \n",
       "3            Private          Urban              64.87  28.8     never smoked   \n",
       "4            Private          Rural              73.36  28.8     never smoked   \n",
       "...              ...            ...                ...   ...              ...   \n",
       "15299       Govt_job          Urban              72.63  19.5     never smoked   \n",
       "15300        Private          Urban             101.19  32.1     never smoked   \n",
       "15301  Self-employed          Urban              87.69  26.2     never smoked   \n",
       "15302        Private          Rural             101.13  22.5          Unknown   \n",
       "15303        Private          Rural              85.12  24.7     never smoked   \n",
       "\n",
       "       stroke  \n",
       "0           0  \n",
       "1           0  \n",
       "2           0  \n",
       "3           0  \n",
       "4           0  \n",
       "...       ...  \n",
       "15299       0  \n",
       "15300       0  \n",
       "15301       0  \n",
       "15302       0  \n",
       "15303       0  \n",
       "\n",
       "[15304 rows x 12 columns]"
      ]
     },
     "execution_count": 3,
     "metadata": {},
     "output_type": "execute_result"
    }
   ],
   "source": [
    "train_data"
   ]
  },
  {
   "cell_type": "markdown",
   "id": "5920b446",
   "metadata": {
    "papermill": {
     "duration": 0.007127,
     "end_time": "2023-01-12T10:02:52.576489",
     "exception": false,
     "start_time": "2023-01-12T10:02:52.569362",
     "status": "completed"
    },
    "tags": []
   },
   "source": [
    "# Train Data preprocessing"
   ]
  },
  {
   "cell_type": "code",
   "execution_count": 4,
   "id": "5f0d23bb",
   "metadata": {
    "execution": {
     "iopub.execute_input": "2023-01-12T10:02:52.592932Z",
     "iopub.status.busy": "2023-01-12T10:02:52.592523Z",
     "iopub.status.idle": "2023-01-12T10:02:52.616290Z",
     "shell.execute_reply": "2023-01-12T10:02:52.615300Z"
    },
    "papermill": {
     "duration": 0.035725,
     "end_time": "2023-01-12T10:02:52.619548",
     "exception": false,
     "start_time": "2023-01-12T10:02:52.583823",
     "status": "completed"
    },
    "tags": []
   },
   "outputs": [],
   "source": [
    "label_encode_X = LabelEncoder()\n",
    "\n",
    "train_data['gender'] = label_encode_X.fit_transform(train_data['gender'])\n",
    "train_data['ever_married'] = label_encode_X.fit_transform(train_data['ever_married'])\n",
    "train_data['Residence_type'] = label_encode_X.fit_transform(train_data['Residence_type'])"
   ]
  },
  {
   "cell_type": "code",
   "execution_count": 5,
   "id": "9ad147cc",
   "metadata": {
    "execution": {
     "iopub.execute_input": "2023-01-12T10:02:52.647531Z",
     "iopub.status.busy": "2023-01-12T10:02:52.646305Z",
     "iopub.status.idle": "2023-01-12T10:02:52.684586Z",
     "shell.execute_reply": "2023-01-12T10:02:52.683326Z"
    },
    "papermill": {
     "duration": 0.052425,
     "end_time": "2023-01-12T10:02:52.687549",
     "exception": false,
     "start_time": "2023-01-12T10:02:52.635124",
     "status": "completed"
    },
    "tags": []
   },
   "outputs": [
    {
     "data": {
      "text/plain": [
       "(       gender   age  ever_married  hypertension  heart_disease  \\\n",
       " 0           1  28.0             1             0              0   \n",
       " 1           1  33.0             1             0              0   \n",
       " 2           0  42.0             1             0              0   \n",
       " 3           1  56.0             1             0              0   \n",
       " 4           0  24.0             0             0              0   \n",
       " ...       ...   ...           ...           ...            ...   \n",
       " 15299       0  22.0             0             0              0   \n",
       " 15300       0  46.0             1             1              0   \n",
       " 15301       0  75.0             1             0              0   \n",
       " 15302       1  46.0             1             0              0   \n",
       " 15303       0  14.0             0             0              0   \n",
       " \n",
       "        avg_glucose_level   bmi  Residence_type  \n",
       " 0                  79.53  31.1               1  \n",
       " 1                  78.44  23.9               0  \n",
       " 2                 103.00  40.3               0  \n",
       " 3                  64.87  28.8               1  \n",
       " 4                  73.36  28.8               0  \n",
       " ...                  ...   ...             ...  \n",
       " 15299              72.63  19.5               1  \n",
       " 15300             101.19  32.1               1  \n",
       " 15301              87.69  26.2               1  \n",
       " 15302             101.13  22.5               0  \n",
       " 15303              85.12  24.7               0  \n",
       " \n",
       " [15304 rows x 8 columns],\n",
       " 0        0\n",
       " 1        0\n",
       " 2        0\n",
       " 3        0\n",
       " 4        0\n",
       "         ..\n",
       " 15299    0\n",
       " 15300    0\n",
       " 15301    0\n",
       " 15302    0\n",
       " 15303    0\n",
       " Name: stroke, Length: 15304, dtype: int64)"
      ]
     },
     "execution_count": 5,
     "metadata": {},
     "output_type": "execute_result"
    }
   ],
   "source": [
    "columns = train_data.columns\n",
    "y = train_data.stroke\n",
    "features = ['gender','age', 'ever_married','hypertension','heart_disease', 'avg_glucose_level', 'bmi', 'Residence_type']\n",
    "X = train_data[features]\n",
    "X,y"
   ]
  },
  {
   "cell_type": "code",
   "execution_count": 6,
   "id": "9dac8668",
   "metadata": {
    "execution": {
     "iopub.execute_input": "2023-01-12T10:02:52.706315Z",
     "iopub.status.busy": "2023-01-12T10:02:52.705462Z",
     "iopub.status.idle": "2023-01-12T10:02:52.714520Z",
     "shell.execute_reply": "2023-01-12T10:02:52.713242Z"
    },
    "papermill": {
     "duration": 0.022307,
     "end_time": "2023-01-12T10:02:52.717376",
     "exception": false,
     "start_time": "2023-01-12T10:02:52.695069",
     "status": "completed"
    },
    "tags": []
   },
   "outputs": [],
   "source": [
    "from sklearn.preprocessing import StandardScaler\n",
    "scaler = StandardScaler()"
   ]
  },
  {
   "cell_type": "code",
   "execution_count": 7,
   "id": "af6ec8d6",
   "metadata": {
    "execution": {
     "iopub.execute_input": "2023-01-12T10:02:52.741430Z",
     "iopub.status.busy": "2023-01-12T10:02:52.740607Z",
     "iopub.status.idle": "2023-01-12T10:02:52.752942Z",
     "shell.execute_reply": "2023-01-12T10:02:52.751839Z"
    },
    "papermill": {
     "duration": 0.027688,
     "end_time": "2023-01-12T10:02:52.756051",
     "exception": false,
     "start_time": "2023-01-12T10:02:52.728363",
     "status": "completed"
    },
    "tags": []
   },
   "outputs": [],
   "source": [
    "X = scaler.fit_transform(X)"
   ]
  },
  {
   "cell_type": "markdown",
   "id": "61e660af",
   "metadata": {
    "papermill": {
     "duration": 0.010118,
     "end_time": "2023-01-12T10:02:52.776935",
     "exception": false,
     "start_time": "2023-01-12T10:02:52.766817",
     "status": "completed"
    },
    "tags": []
   },
   "source": [
    "# Training Model"
   ]
  },
  {
   "cell_type": "code",
   "execution_count": 8,
   "id": "60f352b5",
   "metadata": {
    "execution": {
     "iopub.execute_input": "2023-01-12T10:02:52.800991Z",
     "iopub.status.busy": "2023-01-12T10:02:52.799970Z",
     "iopub.status.idle": "2023-01-12T10:02:53.051506Z",
     "shell.execute_reply": "2023-01-12T10:02:53.050225Z"
    },
    "papermill": {
     "duration": 0.267133,
     "end_time": "2023-01-12T10:02:53.054891",
     "exception": false,
     "start_time": "2023-01-12T10:02:52.787758",
     "status": "completed"
    },
    "tags": []
   },
   "outputs": [],
   "source": [
    "from sklearn.neighbors import KNeighborsClassifier\n",
    "from sklearn.model_selection import train_test_split"
   ]
  },
  {
   "cell_type": "code",
   "execution_count": 9,
   "id": "b92e58bf",
   "metadata": {
    "execution": {
     "iopub.execute_input": "2023-01-12T10:02:53.077448Z",
     "iopub.status.busy": "2023-01-12T10:02:53.076010Z",
     "iopub.status.idle": "2023-01-12T10:02:53.082481Z",
     "shell.execute_reply": "2023-01-12T10:02:53.080827Z"
    },
    "papermill": {
     "duration": 0.021839,
     "end_time": "2023-01-12T10:02:53.085053",
     "exception": false,
     "start_time": "2023-01-12T10:02:53.063214",
     "status": "completed"
    },
    "tags": []
   },
   "outputs": [],
   "source": [
    "# train_X, X, train_y, y = train_test_split(X,y,test_size=0.2)"
   ]
  },
  {
   "cell_type": "code",
   "execution_count": 10,
   "id": "02b9761a",
   "metadata": {
    "execution": {
     "iopub.execute_input": "2023-01-12T10:02:53.102454Z",
     "iopub.status.busy": "2023-01-12T10:02:53.101570Z",
     "iopub.status.idle": "2023-01-12T10:02:53.107154Z",
     "shell.execute_reply": "2023-01-12T10:02:53.106331Z"
    },
    "papermill": {
     "duration": 0.016869,
     "end_time": "2023-01-12T10:02:53.109562",
     "exception": false,
     "start_time": "2023-01-12T10:02:53.092693",
     "status": "completed"
    },
    "tags": []
   },
   "outputs": [],
   "source": [
    "# accuracies = []\n",
    "# for i in range(1,100):\n",
    "#     model = KNeighborsClassifier(n_neighbors=i)\n",
    "#     model.fit(train_X,train_y)\n",
    "#     predicted_y = model.predict(X)\n",
    "    \n",
    "#     accuracy = f1_score(y,predicted_y)\n",
    "#     accuracies.append(accuracy)\n",
    "#     print(\"n Neighbors = \",i)\n",
    "#     print(\"f1 Score: \",f1_score(y,predicted_y))\n",
    "#     print(\"Accuracy: \",round(accuracy_score(y,predicted_y)*100,3),\"%\")\n",
    "# accuracies.pop(0)\n",
    "# print(max(accuracies), \"at n_neighbors = \", accuracies.index(max(accuracies)))"
   ]
  },
  {
   "cell_type": "code",
   "execution_count": 11,
   "id": "f9c84c33",
   "metadata": {
    "execution": {
     "iopub.execute_input": "2023-01-12T10:02:53.127647Z",
     "iopub.status.busy": "2023-01-12T10:02:53.126205Z",
     "iopub.status.idle": "2023-01-12T10:02:54.075073Z",
     "shell.execute_reply": "2023-01-12T10:02:54.073860Z"
    },
    "papermill": {
     "duration": 0.96062,
     "end_time": "2023-01-12T10:02:54.078161",
     "exception": false,
     "start_time": "2023-01-12T10:02:53.117541",
     "status": "completed"
    },
    "tags": []
   },
   "outputs": [],
   "source": [
    "model = KNeighborsClassifier(n_neighbors=5)\n",
    "# model.fit(train_X,train_y)\n",
    "model.fit(X,y)\n",
    "predicted_y = model.predict(X)"
   ]
  },
  {
   "cell_type": "code",
   "execution_count": 12,
   "id": "a64656f7",
   "metadata": {
    "execution": {
     "iopub.execute_input": "2023-01-12T10:02:54.097141Z",
     "iopub.status.busy": "2023-01-12T10:02:54.094603Z",
     "iopub.status.idle": "2023-01-12T10:02:54.102846Z",
     "shell.execute_reply": "2023-01-12T10:02:54.101703Z"
    },
    "papermill": {
     "duration": 0.019906,
     "end_time": "2023-01-12T10:02:54.105751",
     "exception": false,
     "start_time": "2023-01-12T10:02:54.085845",
     "status": "completed"
    },
    "tags": []
   },
   "outputs": [],
   "source": [
    "from sklearn.metrics import accuracy_score,f1_score\n",
    "from sklearn.metrics import confusion_matrix"
   ]
  },
  {
   "cell_type": "markdown",
   "id": "cede03a1",
   "metadata": {
    "papermill": {
     "duration": 0.007619,
     "end_time": "2023-01-12T10:02:54.121042",
     "exception": false,
     "start_time": "2023-01-12T10:02:54.113423",
     "status": "completed"
    },
    "tags": []
   },
   "source": [
    "# F1 and Accuracy"
   ]
  },
  {
   "cell_type": "code",
   "execution_count": 13,
   "id": "86c0a743",
   "metadata": {
    "execution": {
     "iopub.execute_input": "2023-01-12T10:02:54.138791Z",
     "iopub.status.busy": "2023-01-12T10:02:54.138321Z",
     "iopub.status.idle": "2023-01-12T10:02:54.152905Z",
     "shell.execute_reply": "2023-01-12T10:02:54.151531Z"
    },
    "papermill": {
     "duration": 0.026485,
     "end_time": "2023-01-12T10:02:54.155444",
     "exception": false,
     "start_time": "2023-01-12T10:02:54.128959",
     "status": "completed"
    },
    "tags": []
   },
   "outputs": [
    {
     "name": "stdout",
     "output_type": "stream",
     "text": [
      "f1 Score:  0.27101631116687575\n",
      "Accuracy:  96.204 %\n"
     ]
    }
   ],
   "source": [
    "print(\"f1 Score: \",f1_score(y,predicted_y))\n",
    "print(\"Accuracy: \",round(accuracy_score(y,predicted_y)*100,3),\"%\")"
   ]
  },
  {
   "cell_type": "code",
   "execution_count": 14,
   "id": "6e3b7a18",
   "metadata": {
    "execution": {
     "iopub.execute_input": "2023-01-12T10:02:54.172784Z",
     "iopub.status.busy": "2023-01-12T10:02:54.172349Z",
     "iopub.status.idle": "2023-01-12T10:02:54.182785Z",
     "shell.execute_reply": "2023-01-12T10:02:54.181730Z"
    },
    "papermill": {
     "duration": 0.02186,
     "end_time": "2023-01-12T10:02:54.185104",
     "exception": false,
     "start_time": "2023-01-12T10:02:54.163244",
     "status": "completed"
    },
    "tags": []
   },
   "outputs": [
    {
     "name": "stdout",
     "output_type": "stream",
     "text": [
      "[[14615    57]\n",
      " [  524   108]]\n"
     ]
    }
   ],
   "source": [
    "cm = confusion_matrix(y,predicted_y)\n",
    "print(cm)"
   ]
  },
  {
   "cell_type": "markdown",
   "id": "9abd4268",
   "metadata": {
    "papermill": {
     "duration": 0.007559,
     "end_time": "2023-01-12T10:02:54.200536",
     "exception": false,
     "start_time": "2023-01-12T10:02:54.192977",
     "status": "completed"
    },
    "tags": []
   },
   "source": [
    "# Preparing Test Data"
   ]
  },
  {
   "cell_type": "code",
   "execution_count": 15,
   "id": "8e02bcf2",
   "metadata": {
    "execution": {
     "iopub.execute_input": "2023-01-12T10:02:54.219170Z",
     "iopub.status.busy": "2023-01-12T10:02:54.218731Z",
     "iopub.status.idle": "2023-01-12T10:02:54.251996Z",
     "shell.execute_reply": "2023-01-12T10:02:54.250820Z"
    },
    "papermill": {
     "duration": 0.045535,
     "end_time": "2023-01-12T10:02:54.254894",
     "exception": false,
     "start_time": "2023-01-12T10:02:54.209359",
     "status": "completed"
    },
    "tags": []
   },
   "outputs": [],
   "source": [
    "test_data = pd.read_csv('/kaggle/input/playground-series-s3e2/test.csv')"
   ]
  },
  {
   "cell_type": "code",
   "execution_count": 16,
   "id": "95eac9ae",
   "metadata": {
    "execution": {
     "iopub.execute_input": "2023-01-12T10:02:54.273421Z",
     "iopub.status.busy": "2023-01-12T10:02:54.272159Z",
     "iopub.status.idle": "2023-01-12T10:02:54.297942Z",
     "shell.execute_reply": "2023-01-12T10:02:54.296984Z"
    },
    "papermill": {
     "duration": 0.03715,
     "end_time": "2023-01-12T10:02:54.300139",
     "exception": false,
     "start_time": "2023-01-12T10:02:54.262989",
     "status": "completed"
    },
    "tags": []
   },
   "outputs": [
    {
     "data": {
      "text/html": [
       "<div>\n",
       "<style scoped>\n",
       "    .dataframe tbody tr th:only-of-type {\n",
       "        vertical-align: middle;\n",
       "    }\n",
       "\n",
       "    .dataframe tbody tr th {\n",
       "        vertical-align: top;\n",
       "    }\n",
       "\n",
       "    .dataframe thead th {\n",
       "        text-align: right;\n",
       "    }\n",
       "</style>\n",
       "<table border=\"1\" class=\"dataframe\">\n",
       "  <thead>\n",
       "    <tr style=\"text-align: right;\">\n",
       "      <th></th>\n",
       "      <th>id</th>\n",
       "      <th>gender</th>\n",
       "      <th>age</th>\n",
       "      <th>hypertension</th>\n",
       "      <th>heart_disease</th>\n",
       "      <th>ever_married</th>\n",
       "      <th>work_type</th>\n",
       "      <th>Residence_type</th>\n",
       "      <th>avg_glucose_level</th>\n",
       "      <th>bmi</th>\n",
       "      <th>smoking_status</th>\n",
       "    </tr>\n",
       "  </thead>\n",
       "  <tbody>\n",
       "    <tr>\n",
       "      <th>0</th>\n",
       "      <td>15304</td>\n",
       "      <td>Female</td>\n",
       "      <td>57.0</td>\n",
       "      <td>0</td>\n",
       "      <td>0</td>\n",
       "      <td>Yes</td>\n",
       "      <td>Private</td>\n",
       "      <td>Rural</td>\n",
       "      <td>82.54</td>\n",
       "      <td>33.4</td>\n",
       "      <td>Unknown</td>\n",
       "    </tr>\n",
       "    <tr>\n",
       "      <th>1</th>\n",
       "      <td>15305</td>\n",
       "      <td>Male</td>\n",
       "      <td>70.0</td>\n",
       "      <td>1</td>\n",
       "      <td>0</td>\n",
       "      <td>Yes</td>\n",
       "      <td>Private</td>\n",
       "      <td>Urban</td>\n",
       "      <td>72.06</td>\n",
       "      <td>28.5</td>\n",
       "      <td>Unknown</td>\n",
       "    </tr>\n",
       "    <tr>\n",
       "      <th>2</th>\n",
       "      <td>15306</td>\n",
       "      <td>Female</td>\n",
       "      <td>5.0</td>\n",
       "      <td>0</td>\n",
       "      <td>0</td>\n",
       "      <td>No</td>\n",
       "      <td>children</td>\n",
       "      <td>Urban</td>\n",
       "      <td>103.72</td>\n",
       "      <td>19.5</td>\n",
       "      <td>Unknown</td>\n",
       "    </tr>\n",
       "    <tr>\n",
       "      <th>3</th>\n",
       "      <td>15307</td>\n",
       "      <td>Female</td>\n",
       "      <td>56.0</td>\n",
       "      <td>0</td>\n",
       "      <td>0</td>\n",
       "      <td>Yes</td>\n",
       "      <td>Govt_job</td>\n",
       "      <td>Urban</td>\n",
       "      <td>69.24</td>\n",
       "      <td>41.4</td>\n",
       "      <td>smokes</td>\n",
       "    </tr>\n",
       "    <tr>\n",
       "      <th>4</th>\n",
       "      <td>15308</td>\n",
       "      <td>Male</td>\n",
       "      <td>32.0</td>\n",
       "      <td>0</td>\n",
       "      <td>0</td>\n",
       "      <td>Yes</td>\n",
       "      <td>Private</td>\n",
       "      <td>Rural</td>\n",
       "      <td>111.15</td>\n",
       "      <td>30.1</td>\n",
       "      <td>smokes</td>\n",
       "    </tr>\n",
       "    <tr>\n",
       "      <th>...</th>\n",
       "      <td>...</td>\n",
       "      <td>...</td>\n",
       "      <td>...</td>\n",
       "      <td>...</td>\n",
       "      <td>...</td>\n",
       "      <td>...</td>\n",
       "      <td>...</td>\n",
       "      <td>...</td>\n",
       "      <td>...</td>\n",
       "      <td>...</td>\n",
       "      <td>...</td>\n",
       "    </tr>\n",
       "    <tr>\n",
       "      <th>10199</th>\n",
       "      <td>25503</td>\n",
       "      <td>Female</td>\n",
       "      <td>27.0</td>\n",
       "      <td>0</td>\n",
       "      <td>0</td>\n",
       "      <td>No</td>\n",
       "      <td>Private</td>\n",
       "      <td>Urban</td>\n",
       "      <td>75.77</td>\n",
       "      <td>17.6</td>\n",
       "      <td>never smoked</td>\n",
       "    </tr>\n",
       "    <tr>\n",
       "      <th>10200</th>\n",
       "      <td>25504</td>\n",
       "      <td>Male</td>\n",
       "      <td>49.0</td>\n",
       "      <td>0</td>\n",
       "      <td>0</td>\n",
       "      <td>Yes</td>\n",
       "      <td>Private</td>\n",
       "      <td>Urban</td>\n",
       "      <td>102.91</td>\n",
       "      <td>26.7</td>\n",
       "      <td>Unknown</td>\n",
       "    </tr>\n",
       "    <tr>\n",
       "      <th>10201</th>\n",
       "      <td>25505</td>\n",
       "      <td>Female</td>\n",
       "      <td>3.0</td>\n",
       "      <td>0</td>\n",
       "      <td>0</td>\n",
       "      <td>No</td>\n",
       "      <td>children</td>\n",
       "      <td>Rural</td>\n",
       "      <td>104.04</td>\n",
       "      <td>18.3</td>\n",
       "      <td>Unknown</td>\n",
       "    </tr>\n",
       "    <tr>\n",
       "      <th>10202</th>\n",
       "      <td>25506</td>\n",
       "      <td>Male</td>\n",
       "      <td>31.0</td>\n",
       "      <td>0</td>\n",
       "      <td>0</td>\n",
       "      <td>Yes</td>\n",
       "      <td>Private</td>\n",
       "      <td>Urban</td>\n",
       "      <td>82.41</td>\n",
       "      <td>28.7</td>\n",
       "      <td>never smoked</td>\n",
       "    </tr>\n",
       "    <tr>\n",
       "      <th>10203</th>\n",
       "      <td>25507</td>\n",
       "      <td>Female</td>\n",
       "      <td>2.0</td>\n",
       "      <td>0</td>\n",
       "      <td>0</td>\n",
       "      <td>No</td>\n",
       "      <td>children</td>\n",
       "      <td>Urban</td>\n",
       "      <td>85.12</td>\n",
       "      <td>14.8</td>\n",
       "      <td>Unknown</td>\n",
       "    </tr>\n",
       "  </tbody>\n",
       "</table>\n",
       "<p>10204 rows × 11 columns</p>\n",
       "</div>"
      ],
      "text/plain": [
       "          id  gender   age  hypertension  heart_disease ever_married  \\\n",
       "0      15304  Female  57.0             0              0          Yes   \n",
       "1      15305    Male  70.0             1              0          Yes   \n",
       "2      15306  Female   5.0             0              0           No   \n",
       "3      15307  Female  56.0             0              0          Yes   \n",
       "4      15308    Male  32.0             0              0          Yes   \n",
       "...      ...     ...   ...           ...            ...          ...   \n",
       "10199  25503  Female  27.0             0              0           No   \n",
       "10200  25504    Male  49.0             0              0          Yes   \n",
       "10201  25505  Female   3.0             0              0           No   \n",
       "10202  25506    Male  31.0             0              0          Yes   \n",
       "10203  25507  Female   2.0             0              0           No   \n",
       "\n",
       "      work_type Residence_type  avg_glucose_level   bmi smoking_status  \n",
       "0       Private          Rural              82.54  33.4        Unknown  \n",
       "1       Private          Urban              72.06  28.5        Unknown  \n",
       "2      children          Urban             103.72  19.5        Unknown  \n",
       "3      Govt_job          Urban              69.24  41.4         smokes  \n",
       "4       Private          Rural             111.15  30.1         smokes  \n",
       "...         ...            ...                ...   ...            ...  \n",
       "10199   Private          Urban              75.77  17.6   never smoked  \n",
       "10200   Private          Urban             102.91  26.7        Unknown  \n",
       "10201  children          Rural             104.04  18.3        Unknown  \n",
       "10202   Private          Urban              82.41  28.7   never smoked  \n",
       "10203  children          Urban              85.12  14.8        Unknown  \n",
       "\n",
       "[10204 rows x 11 columns]"
      ]
     },
     "execution_count": 16,
     "metadata": {},
     "output_type": "execute_result"
    }
   ],
   "source": [
    "test_data"
   ]
  },
  {
   "cell_type": "code",
   "execution_count": 17,
   "id": "b16f4445",
   "metadata": {
    "execution": {
     "iopub.execute_input": "2023-01-12T10:02:54.319113Z",
     "iopub.status.busy": "2023-01-12T10:02:54.318243Z",
     "iopub.status.idle": "2023-01-12T10:02:54.353879Z",
     "shell.execute_reply": "2023-01-12T10:02:54.352720Z"
    },
    "papermill": {
     "duration": 0.047861,
     "end_time": "2023-01-12T10:02:54.356376",
     "exception": false,
     "start_time": "2023-01-12T10:02:54.308515",
     "status": "completed"
    },
    "tags": []
   },
   "outputs": [
    {
     "data": {
      "text/html": [
       "<div>\n",
       "<style scoped>\n",
       "    .dataframe tbody tr th:only-of-type {\n",
       "        vertical-align: middle;\n",
       "    }\n",
       "\n",
       "    .dataframe tbody tr th {\n",
       "        vertical-align: top;\n",
       "    }\n",
       "\n",
       "    .dataframe thead th {\n",
       "        text-align: right;\n",
       "    }\n",
       "</style>\n",
       "<table border=\"1\" class=\"dataframe\">\n",
       "  <thead>\n",
       "    <tr style=\"text-align: right;\">\n",
       "      <th></th>\n",
       "      <th>id</th>\n",
       "      <th>gender</th>\n",
       "      <th>age</th>\n",
       "      <th>hypertension</th>\n",
       "      <th>heart_disease</th>\n",
       "      <th>ever_married</th>\n",
       "      <th>work_type</th>\n",
       "      <th>Residence_type</th>\n",
       "      <th>avg_glucose_level</th>\n",
       "      <th>bmi</th>\n",
       "      <th>smoking_status</th>\n",
       "    </tr>\n",
       "  </thead>\n",
       "  <tbody>\n",
       "    <tr>\n",
       "      <th>0</th>\n",
       "      <td>15304</td>\n",
       "      <td>0</td>\n",
       "      <td>57.0</td>\n",
       "      <td>0</td>\n",
       "      <td>0</td>\n",
       "      <td>1</td>\n",
       "      <td>Private</td>\n",
       "      <td>0</td>\n",
       "      <td>82.54</td>\n",
       "      <td>33.4</td>\n",
       "      <td>Unknown</td>\n",
       "    </tr>\n",
       "    <tr>\n",
       "      <th>1</th>\n",
       "      <td>15305</td>\n",
       "      <td>1</td>\n",
       "      <td>70.0</td>\n",
       "      <td>1</td>\n",
       "      <td>0</td>\n",
       "      <td>1</td>\n",
       "      <td>Private</td>\n",
       "      <td>1</td>\n",
       "      <td>72.06</td>\n",
       "      <td>28.5</td>\n",
       "      <td>Unknown</td>\n",
       "    </tr>\n",
       "    <tr>\n",
       "      <th>2</th>\n",
       "      <td>15306</td>\n",
       "      <td>0</td>\n",
       "      <td>5.0</td>\n",
       "      <td>0</td>\n",
       "      <td>0</td>\n",
       "      <td>0</td>\n",
       "      <td>children</td>\n",
       "      <td>1</td>\n",
       "      <td>103.72</td>\n",
       "      <td>19.5</td>\n",
       "      <td>Unknown</td>\n",
       "    </tr>\n",
       "    <tr>\n",
       "      <th>3</th>\n",
       "      <td>15307</td>\n",
       "      <td>0</td>\n",
       "      <td>56.0</td>\n",
       "      <td>0</td>\n",
       "      <td>0</td>\n",
       "      <td>1</td>\n",
       "      <td>Govt_job</td>\n",
       "      <td>1</td>\n",
       "      <td>69.24</td>\n",
       "      <td>41.4</td>\n",
       "      <td>smokes</td>\n",
       "    </tr>\n",
       "    <tr>\n",
       "      <th>4</th>\n",
       "      <td>15308</td>\n",
       "      <td>1</td>\n",
       "      <td>32.0</td>\n",
       "      <td>0</td>\n",
       "      <td>0</td>\n",
       "      <td>1</td>\n",
       "      <td>Private</td>\n",
       "      <td>0</td>\n",
       "      <td>111.15</td>\n",
       "      <td>30.1</td>\n",
       "      <td>smokes</td>\n",
       "    </tr>\n",
       "    <tr>\n",
       "      <th>...</th>\n",
       "      <td>...</td>\n",
       "      <td>...</td>\n",
       "      <td>...</td>\n",
       "      <td>...</td>\n",
       "      <td>...</td>\n",
       "      <td>...</td>\n",
       "      <td>...</td>\n",
       "      <td>...</td>\n",
       "      <td>...</td>\n",
       "      <td>...</td>\n",
       "      <td>...</td>\n",
       "    </tr>\n",
       "    <tr>\n",
       "      <th>10199</th>\n",
       "      <td>25503</td>\n",
       "      <td>0</td>\n",
       "      <td>27.0</td>\n",
       "      <td>0</td>\n",
       "      <td>0</td>\n",
       "      <td>0</td>\n",
       "      <td>Private</td>\n",
       "      <td>1</td>\n",
       "      <td>75.77</td>\n",
       "      <td>17.6</td>\n",
       "      <td>never smoked</td>\n",
       "    </tr>\n",
       "    <tr>\n",
       "      <th>10200</th>\n",
       "      <td>25504</td>\n",
       "      <td>1</td>\n",
       "      <td>49.0</td>\n",
       "      <td>0</td>\n",
       "      <td>0</td>\n",
       "      <td>1</td>\n",
       "      <td>Private</td>\n",
       "      <td>1</td>\n",
       "      <td>102.91</td>\n",
       "      <td>26.7</td>\n",
       "      <td>Unknown</td>\n",
       "    </tr>\n",
       "    <tr>\n",
       "      <th>10201</th>\n",
       "      <td>25505</td>\n",
       "      <td>0</td>\n",
       "      <td>3.0</td>\n",
       "      <td>0</td>\n",
       "      <td>0</td>\n",
       "      <td>0</td>\n",
       "      <td>children</td>\n",
       "      <td>0</td>\n",
       "      <td>104.04</td>\n",
       "      <td>18.3</td>\n",
       "      <td>Unknown</td>\n",
       "    </tr>\n",
       "    <tr>\n",
       "      <th>10202</th>\n",
       "      <td>25506</td>\n",
       "      <td>1</td>\n",
       "      <td>31.0</td>\n",
       "      <td>0</td>\n",
       "      <td>0</td>\n",
       "      <td>1</td>\n",
       "      <td>Private</td>\n",
       "      <td>1</td>\n",
       "      <td>82.41</td>\n",
       "      <td>28.7</td>\n",
       "      <td>never smoked</td>\n",
       "    </tr>\n",
       "    <tr>\n",
       "      <th>10203</th>\n",
       "      <td>25507</td>\n",
       "      <td>0</td>\n",
       "      <td>2.0</td>\n",
       "      <td>0</td>\n",
       "      <td>0</td>\n",
       "      <td>0</td>\n",
       "      <td>children</td>\n",
       "      <td>1</td>\n",
       "      <td>85.12</td>\n",
       "      <td>14.8</td>\n",
       "      <td>Unknown</td>\n",
       "    </tr>\n",
       "  </tbody>\n",
       "</table>\n",
       "<p>10204 rows × 11 columns</p>\n",
       "</div>"
      ],
      "text/plain": [
       "          id  gender   age  hypertension  heart_disease  ever_married  \\\n",
       "0      15304       0  57.0             0              0             1   \n",
       "1      15305       1  70.0             1              0             1   \n",
       "2      15306       0   5.0             0              0             0   \n",
       "3      15307       0  56.0             0              0             1   \n",
       "4      15308       1  32.0             0              0             1   \n",
       "...      ...     ...   ...           ...            ...           ...   \n",
       "10199  25503       0  27.0             0              0             0   \n",
       "10200  25504       1  49.0             0              0             1   \n",
       "10201  25505       0   3.0             0              0             0   \n",
       "10202  25506       1  31.0             0              0             1   \n",
       "10203  25507       0   2.0             0              0             0   \n",
       "\n",
       "      work_type  Residence_type  avg_glucose_level   bmi smoking_status  \n",
       "0       Private               0              82.54  33.4        Unknown  \n",
       "1       Private               1              72.06  28.5        Unknown  \n",
       "2      children               1             103.72  19.5        Unknown  \n",
       "3      Govt_job               1              69.24  41.4         smokes  \n",
       "4       Private               0             111.15  30.1         smokes  \n",
       "...         ...             ...                ...   ...            ...  \n",
       "10199   Private               1              75.77  17.6   never smoked  \n",
       "10200   Private               1             102.91  26.7        Unknown  \n",
       "10201  children               0             104.04  18.3        Unknown  \n",
       "10202   Private               1              82.41  28.7   never smoked  \n",
       "10203  children               1              85.12  14.8        Unknown  \n",
       "\n",
       "[10204 rows x 11 columns]"
      ]
     },
     "execution_count": 17,
     "metadata": {},
     "output_type": "execute_result"
    }
   ],
   "source": [
    "label_encode_X = LabelEncoder()\n",
    "\n",
    "test_data['gender'] = label_encode_X.fit_transform(test_data['gender'])\n",
    "test_data['ever_married'] = label_encode_X.fit_transform(test_data['ever_married'])\n",
    "test_data['Residence_type'] = label_encode_X.fit_transform(test_data['Residence_type'])\n",
    "test_data"
   ]
  },
  {
   "cell_type": "code",
   "execution_count": 18,
   "id": "2753c283",
   "metadata": {
    "execution": {
     "iopub.execute_input": "2023-01-12T10:02:54.375511Z",
     "iopub.status.busy": "2023-01-12T10:02:54.374793Z",
     "iopub.status.idle": "2023-01-12T10:02:54.397589Z",
     "shell.execute_reply": "2023-01-12T10:02:54.396169Z"
    },
    "papermill": {
     "duration": 0.035549,
     "end_time": "2023-01-12T10:02:54.400411",
     "exception": false,
     "start_time": "2023-01-12T10:02:54.364862",
     "status": "completed"
    },
    "tags": []
   },
   "outputs": [
    {
     "data": {
      "text/html": [
       "<div>\n",
       "<style scoped>\n",
       "    .dataframe tbody tr th:only-of-type {\n",
       "        vertical-align: middle;\n",
       "    }\n",
       "\n",
       "    .dataframe tbody tr th {\n",
       "        vertical-align: top;\n",
       "    }\n",
       "\n",
       "    .dataframe thead th {\n",
       "        text-align: right;\n",
       "    }\n",
       "</style>\n",
       "<table border=\"1\" class=\"dataframe\">\n",
       "  <thead>\n",
       "    <tr style=\"text-align: right;\">\n",
       "      <th></th>\n",
       "      <th>gender</th>\n",
       "      <th>age</th>\n",
       "      <th>ever_married</th>\n",
       "      <th>hypertension</th>\n",
       "      <th>heart_disease</th>\n",
       "      <th>avg_glucose_level</th>\n",
       "      <th>bmi</th>\n",
       "      <th>Residence_type</th>\n",
       "    </tr>\n",
       "  </thead>\n",
       "  <tbody>\n",
       "    <tr>\n",
       "      <th>0</th>\n",
       "      <td>0</td>\n",
       "      <td>57.0</td>\n",
       "      <td>1</td>\n",
       "      <td>0</td>\n",
       "      <td>0</td>\n",
       "      <td>82.54</td>\n",
       "      <td>33.4</td>\n",
       "      <td>0</td>\n",
       "    </tr>\n",
       "    <tr>\n",
       "      <th>1</th>\n",
       "      <td>1</td>\n",
       "      <td>70.0</td>\n",
       "      <td>1</td>\n",
       "      <td>1</td>\n",
       "      <td>0</td>\n",
       "      <td>72.06</td>\n",
       "      <td>28.5</td>\n",
       "      <td>1</td>\n",
       "    </tr>\n",
       "    <tr>\n",
       "      <th>2</th>\n",
       "      <td>0</td>\n",
       "      <td>5.0</td>\n",
       "      <td>0</td>\n",
       "      <td>0</td>\n",
       "      <td>0</td>\n",
       "      <td>103.72</td>\n",
       "      <td>19.5</td>\n",
       "      <td>1</td>\n",
       "    </tr>\n",
       "    <tr>\n",
       "      <th>3</th>\n",
       "      <td>0</td>\n",
       "      <td>56.0</td>\n",
       "      <td>1</td>\n",
       "      <td>0</td>\n",
       "      <td>0</td>\n",
       "      <td>69.24</td>\n",
       "      <td>41.4</td>\n",
       "      <td>1</td>\n",
       "    </tr>\n",
       "    <tr>\n",
       "      <th>4</th>\n",
       "      <td>1</td>\n",
       "      <td>32.0</td>\n",
       "      <td>1</td>\n",
       "      <td>0</td>\n",
       "      <td>0</td>\n",
       "      <td>111.15</td>\n",
       "      <td>30.1</td>\n",
       "      <td>0</td>\n",
       "    </tr>\n",
       "    <tr>\n",
       "      <th>...</th>\n",
       "      <td>...</td>\n",
       "      <td>...</td>\n",
       "      <td>...</td>\n",
       "      <td>...</td>\n",
       "      <td>...</td>\n",
       "      <td>...</td>\n",
       "      <td>...</td>\n",
       "      <td>...</td>\n",
       "    </tr>\n",
       "    <tr>\n",
       "      <th>10199</th>\n",
       "      <td>0</td>\n",
       "      <td>27.0</td>\n",
       "      <td>0</td>\n",
       "      <td>0</td>\n",
       "      <td>0</td>\n",
       "      <td>75.77</td>\n",
       "      <td>17.6</td>\n",
       "      <td>1</td>\n",
       "    </tr>\n",
       "    <tr>\n",
       "      <th>10200</th>\n",
       "      <td>1</td>\n",
       "      <td>49.0</td>\n",
       "      <td>1</td>\n",
       "      <td>0</td>\n",
       "      <td>0</td>\n",
       "      <td>102.91</td>\n",
       "      <td>26.7</td>\n",
       "      <td>1</td>\n",
       "    </tr>\n",
       "    <tr>\n",
       "      <th>10201</th>\n",
       "      <td>0</td>\n",
       "      <td>3.0</td>\n",
       "      <td>0</td>\n",
       "      <td>0</td>\n",
       "      <td>0</td>\n",
       "      <td>104.04</td>\n",
       "      <td>18.3</td>\n",
       "      <td>0</td>\n",
       "    </tr>\n",
       "    <tr>\n",
       "      <th>10202</th>\n",
       "      <td>1</td>\n",
       "      <td>31.0</td>\n",
       "      <td>1</td>\n",
       "      <td>0</td>\n",
       "      <td>0</td>\n",
       "      <td>82.41</td>\n",
       "      <td>28.7</td>\n",
       "      <td>1</td>\n",
       "    </tr>\n",
       "    <tr>\n",
       "      <th>10203</th>\n",
       "      <td>0</td>\n",
       "      <td>2.0</td>\n",
       "      <td>0</td>\n",
       "      <td>0</td>\n",
       "      <td>0</td>\n",
       "      <td>85.12</td>\n",
       "      <td>14.8</td>\n",
       "      <td>1</td>\n",
       "    </tr>\n",
       "  </tbody>\n",
       "</table>\n",
       "<p>10204 rows × 8 columns</p>\n",
       "</div>"
      ],
      "text/plain": [
       "       gender   age  ever_married  hypertension  heart_disease  \\\n",
       "0           0  57.0             1             0              0   \n",
       "1           1  70.0             1             1              0   \n",
       "2           0   5.0             0             0              0   \n",
       "3           0  56.0             1             0              0   \n",
       "4           1  32.0             1             0              0   \n",
       "...       ...   ...           ...           ...            ...   \n",
       "10199       0  27.0             0             0              0   \n",
       "10200       1  49.0             1             0              0   \n",
       "10201       0   3.0             0             0              0   \n",
       "10202       1  31.0             1             0              0   \n",
       "10203       0   2.0             0             0              0   \n",
       "\n",
       "       avg_glucose_level   bmi  Residence_type  \n",
       "0                  82.54  33.4               0  \n",
       "1                  72.06  28.5               1  \n",
       "2                 103.72  19.5               1  \n",
       "3                  69.24  41.4               1  \n",
       "4                 111.15  30.1               0  \n",
       "...                  ...   ...             ...  \n",
       "10199              75.77  17.6               1  \n",
       "10200             102.91  26.7               1  \n",
       "10201             104.04  18.3               0  \n",
       "10202              82.41  28.7               1  \n",
       "10203              85.12  14.8               1  \n",
       "\n",
       "[10204 rows x 8 columns]"
      ]
     },
     "execution_count": 18,
     "metadata": {},
     "output_type": "execute_result"
    }
   ],
   "source": [
    "columns_test = test_data.columns\n",
    "features = ['gender','age', 'ever_married','hypertension','heart_disease', 'avg_glucose_level', 'bmi', 'Residence_type']\n",
    "X_test = test_data[features]\n",
    "X_test"
   ]
  },
  {
   "cell_type": "code",
   "execution_count": 19,
   "id": "661979ce",
   "metadata": {
    "execution": {
     "iopub.execute_input": "2023-01-12T10:02:54.420279Z",
     "iopub.status.busy": "2023-01-12T10:02:54.419802Z",
     "iopub.status.idle": "2023-01-12T10:02:54.431288Z",
     "shell.execute_reply": "2023-01-12T10:02:54.429964Z"
    },
    "papermill": {
     "duration": 0.024796,
     "end_time": "2023-01-12T10:02:54.434132",
     "exception": false,
     "start_time": "2023-01-12T10:02:54.409336",
     "status": "completed"
    },
    "tags": []
   },
   "outputs": [],
   "source": [
    "X_test = scaler.fit_transform(X_test)"
   ]
  },
  {
   "cell_type": "markdown",
   "id": "1d17b61f",
   "metadata": {
    "papermill": {
     "duration": 0.008449,
     "end_time": "2023-01-12T10:02:54.451757",
     "exception": false,
     "start_time": "2023-01-12T10:02:54.443308",
     "status": "completed"
    },
    "tags": []
   },
   "source": [
    "# Predicting Test Data"
   ]
  },
  {
   "cell_type": "code",
   "execution_count": 20,
   "id": "7cbd3e76",
   "metadata": {
    "execution": {
     "iopub.execute_input": "2023-01-12T10:02:54.471394Z",
     "iopub.status.busy": "2023-01-12T10:02:54.470916Z",
     "iopub.status.idle": "2023-01-12T10:02:55.195699Z",
     "shell.execute_reply": "2023-01-12T10:02:55.194321Z"
    },
    "papermill": {
     "duration": 0.737467,
     "end_time": "2023-01-12T10:02:55.198178",
     "exception": false,
     "start_time": "2023-01-12T10:02:54.460711",
     "status": "completed"
    },
    "tags": []
   },
   "outputs": [
    {
     "data": {
      "text/plain": [
       "array([0, 0, 0, ..., 0, 0, 0])"
      ]
     },
     "execution_count": 20,
     "metadata": {},
     "output_type": "execute_result"
    }
   ],
   "source": [
    "Y_PREDICTED = model.predict(X_test)\n",
    "Y_PREDICTED"
   ]
  },
  {
   "cell_type": "code",
   "execution_count": 21,
   "id": "cc7eb311",
   "metadata": {
    "execution": {
     "iopub.execute_input": "2023-01-12T10:02:55.218992Z",
     "iopub.status.busy": "2023-01-12T10:02:55.218418Z",
     "iopub.status.idle": "2023-01-12T10:02:55.225096Z",
     "shell.execute_reply": "2023-01-12T10:02:55.223764Z"
    },
    "papermill": {
     "duration": 0.019801,
     "end_time": "2023-01-12T10:02:55.227842",
     "exception": false,
     "start_time": "2023-01-12T10:02:55.208041",
     "status": "completed"
    },
    "tags": []
   },
   "outputs": [],
   "source": [
    "output = pd.DataFrame(Y_PREDICTED,columns=['stroke'])\n"
   ]
  },
  {
   "cell_type": "code",
   "execution_count": 22,
   "id": "1652d6bc",
   "metadata": {
    "execution": {
     "iopub.execute_input": "2023-01-12T10:02:55.248126Z",
     "iopub.status.busy": "2023-01-12T10:02:55.247717Z",
     "iopub.status.idle": "2023-01-12T10:02:55.257460Z",
     "shell.execute_reply": "2023-01-12T10:02:55.256294Z"
    },
    "papermill": {
     "duration": 0.022979,
     "end_time": "2023-01-12T10:02:55.260009",
     "exception": false,
     "start_time": "2023-01-12T10:02:55.237030",
     "status": "completed"
    },
    "tags": []
   },
   "outputs": [],
   "source": [
    "output['id'] = test_data['id']\n",
    "output = output.iloc[:,[1,0]]"
   ]
  },
  {
   "cell_type": "code",
   "execution_count": 23,
   "id": "35905690",
   "metadata": {
    "execution": {
     "iopub.execute_input": "2023-01-12T10:02:55.280466Z",
     "iopub.status.busy": "2023-01-12T10:02:55.279987Z",
     "iopub.status.idle": "2023-01-12T10:02:55.292275Z",
     "shell.execute_reply": "2023-01-12T10:02:55.291156Z"
    },
    "papermill": {
     "duration": 0.025374,
     "end_time": "2023-01-12T10:02:55.294485",
     "exception": false,
     "start_time": "2023-01-12T10:02:55.269111",
     "status": "completed"
    },
    "tags": []
   },
   "outputs": [
    {
     "data": {
      "text/html": [
       "<div>\n",
       "<style scoped>\n",
       "    .dataframe tbody tr th:only-of-type {\n",
       "        vertical-align: middle;\n",
       "    }\n",
       "\n",
       "    .dataframe tbody tr th {\n",
       "        vertical-align: top;\n",
       "    }\n",
       "\n",
       "    .dataframe thead th {\n",
       "        text-align: right;\n",
       "    }\n",
       "</style>\n",
       "<table border=\"1\" class=\"dataframe\">\n",
       "  <thead>\n",
       "    <tr style=\"text-align: right;\">\n",
       "      <th></th>\n",
       "      <th>id</th>\n",
       "      <th>stroke</th>\n",
       "    </tr>\n",
       "  </thead>\n",
       "  <tbody>\n",
       "    <tr>\n",
       "      <th>0</th>\n",
       "      <td>15304</td>\n",
       "      <td>0</td>\n",
       "    </tr>\n",
       "    <tr>\n",
       "      <th>1</th>\n",
       "      <td>15305</td>\n",
       "      <td>0</td>\n",
       "    </tr>\n",
       "    <tr>\n",
       "      <th>2</th>\n",
       "      <td>15306</td>\n",
       "      <td>0</td>\n",
       "    </tr>\n",
       "    <tr>\n",
       "      <th>3</th>\n",
       "      <td>15307</td>\n",
       "      <td>0</td>\n",
       "    </tr>\n",
       "    <tr>\n",
       "      <th>4</th>\n",
       "      <td>15308</td>\n",
       "      <td>0</td>\n",
       "    </tr>\n",
       "    <tr>\n",
       "      <th>...</th>\n",
       "      <td>...</td>\n",
       "      <td>...</td>\n",
       "    </tr>\n",
       "    <tr>\n",
       "      <th>10199</th>\n",
       "      <td>25503</td>\n",
       "      <td>0</td>\n",
       "    </tr>\n",
       "    <tr>\n",
       "      <th>10200</th>\n",
       "      <td>25504</td>\n",
       "      <td>0</td>\n",
       "    </tr>\n",
       "    <tr>\n",
       "      <th>10201</th>\n",
       "      <td>25505</td>\n",
       "      <td>0</td>\n",
       "    </tr>\n",
       "    <tr>\n",
       "      <th>10202</th>\n",
       "      <td>25506</td>\n",
       "      <td>0</td>\n",
       "    </tr>\n",
       "    <tr>\n",
       "      <th>10203</th>\n",
       "      <td>25507</td>\n",
       "      <td>0</td>\n",
       "    </tr>\n",
       "  </tbody>\n",
       "</table>\n",
       "<p>10204 rows × 2 columns</p>\n",
       "</div>"
      ],
      "text/plain": [
       "          id  stroke\n",
       "0      15304       0\n",
       "1      15305       0\n",
       "2      15306       0\n",
       "3      15307       0\n",
       "4      15308       0\n",
       "...      ...     ...\n",
       "10199  25503       0\n",
       "10200  25504       0\n",
       "10201  25505       0\n",
       "10202  25506       0\n",
       "10203  25507       0\n",
       "\n",
       "[10204 rows x 2 columns]"
      ]
     },
     "execution_count": 23,
     "metadata": {},
     "output_type": "execute_result"
    }
   ],
   "source": [
    "output"
   ]
  },
  {
   "cell_type": "code",
   "execution_count": 24,
   "id": "b5bff4eb",
   "metadata": {
    "execution": {
     "iopub.execute_input": "2023-01-12T10:02:55.314945Z",
     "iopub.status.busy": "2023-01-12T10:02:55.314479Z",
     "iopub.status.idle": "2023-01-12T10:02:55.340083Z",
     "shell.execute_reply": "2023-01-12T10:02:55.338514Z"
    },
    "papermill": {
     "duration": 0.039369,
     "end_time": "2023-01-12T10:02:55.343119",
     "exception": false,
     "start_time": "2023-01-12T10:02:55.303750",
     "status": "completed"
    },
    "tags": []
   },
   "outputs": [],
   "source": [
    "output.to_csv('/kaggle/working/output.csv')"
   ]
  }
 ],
 "metadata": {
  "kernelspec": {
   "display_name": "Python 3",
   "language": "python",
   "name": "python3"
  },
  "language_info": {
   "codemirror_mode": {
    "name": "ipython",
    "version": 3
   },
   "file_extension": ".py",
   "mimetype": "text/x-python",
   "name": "python",
   "nbconvert_exporter": "python",
   "pygments_lexer": "ipython3",
   "version": "3.7.12"
  },
  "papermill": {
   "default_parameters": {},
   "duration": 14.289986,
   "end_time": "2023-01-12T10:02:56.174084",
   "environment_variables": {},
   "exception": null,
   "input_path": "__notebook__.ipynb",
   "output_path": "__notebook__.ipynb",
   "parameters": {},
   "start_time": "2023-01-12T10:02:41.884098",
   "version": "2.3.4"
  }
 },
 "nbformat": 4,
 "nbformat_minor": 5
}
